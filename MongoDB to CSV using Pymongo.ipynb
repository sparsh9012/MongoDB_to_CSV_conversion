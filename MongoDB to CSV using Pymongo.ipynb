{
 "cells": [
  {
   "cell_type": "code",
   "execution_count": null,
   "metadata": {},
   "outputs": [],
   "source": [
    "import pymongo as pm\n",
    "from pymongo import MongoClient\n",
    "import numpy as np\n",
    "import pandas as pd\n",
    "from pandas.io.json import json_normalize"
   ]
  },
  {
   "cell_type": "code",
   "execution_count": null,
   "metadata": {},
   "outputs": [],
   "source": [
    "def _connect_mongo(username, password, host, port, db):\n",
    "    mongo_uri = 'mongodb://%s:%s@%s:%s/%s' % (username, password, host, port, db)\n",
    "    conn = MongoClient(mongo_uri, serverSelectionTimeoutMS=5000, ssl=True)\n",
    "    return conn[db] "
   ]
  },
  {
   "cell_type": "code",
   "execution_count": null,
   "metadata": {},
   "outputs": [],
   "source": [
    "db = _connect_mongo('xxxx', 'xxxx', 'xxxx', xxxx, 'xxxx')\n",
    "collection = db['xxxx']\n",
    "test = pd.DataFrame(list(collection.find({}, {\"var1\":1, \"var2\":1})))\n",
    "print(test.info())"
   ]
  },
  {
   "cell_type": "markdown",
   "metadata": {},
   "source": [
    "### Extracting Non-array data"
   ]
  },
  {
   "cell_type": "code",
   "execution_count": null,
   "metadata": {},
   "outputs": [],
   "source": [
    "with open('non_array_features.txt') as f:\n",
    "    content = f.readlines()\n",
    "non_array_features = [x.strip() for x in content]"
   ]
  },
  {
   "cell_type": "code",
   "execution_count": null,
   "metadata": {},
   "outputs": [],
   "source": [
    "query = \"\"\n",
    "for x in non_array_features:\n",
    "    query+='\"'+ x + '\":1, '\n",
    "query = query[:-2]"
   ]
  },
  {
   "cell_type": "code",
   "execution_count": null,
   "metadata": {},
   "outputs": [],
   "source": [
    "flat_df = json_normalize(list(collection.find({}, {<paste query string here without ''>})))\n",
    "flat_df.shape"
   ]
  },
  {
   "cell_type": "markdown",
   "metadata": {},
   "source": [
    "### Extracting Array data"
   ]
  },
  {
   "cell_type": "markdown",
   "metadata": {},
   "source": [
    "#### Functions"
   ]
  },
  {
   "cell_type": "code",
   "execution_count": null,
   "metadata": {},
   "outputs": [],
   "source": [
    "def extract_array(feature, key, val):\n",
    "    n1 = pd.DataFrame(list(collection.aggregate([{\"$unwind\" : \"$\"+str(feature)}, \n",
    "                                        {\"$project\" : {'key' : \"$\"+str(feature) + \".\" + key,\n",
    "                                                       'value' : \"$\"+str(feature) + \".\" + val}}])))\n",
    "    n2 = n1[~n1['_id'].astype(str).str.contains('timestamp', regex=False)]\n",
    "    n3 = n2[~n2.set_index(['_id','key'])['value'].index.duplicated(keep='first')]\n",
    "    n4 = n3.set_index(['_id','key'])['value'].unstack().add_suffix('_').reset_index()\n",
    "    return n4\n",
    "\n",
    "\n",
    "'''https://stackoverflow.com/questions/51402430/concatenate-columns-with-same-id-pandas-dataframe'''\n",
    "def collide_me(x):\n",
    "    x = x[~x['_id'].astype(str).str.contains('timestamp', regex=False)]\n",
    "    y = (x.set_index(['_id', x.groupby(['_id']).cumcount()]).unstack().sort_index(axis=1, level=1))\n",
    "    y.columns = ['{}_{}'.format(i, j) for i, j in y.columns]\n",
    "    y = y.reset_index()\n",
    "    return y\n",
    "\n",
    "def extract_ndarray(df, key, value):\n",
    "    n1 = df[['_id', key, value]]\n",
    "    n2 = n1[~n1['_id'].astype(str).str.contains('timestamp', regex=False)]\n",
    "    n3 = n2[~n2.set_index(['_id',key])[value].index.duplicated(keep='first')]\n",
    "    n4 = n3.set_index(['_id',key])[value].unstack().add_prefix(key+'_').reset_index()\n",
    "    return n4"
   ]
  },
  {
   "cell_type": "markdown",
   "metadata": {},
   "source": [
    "#### Key-value feature extraction"
   ]
  },
  {
   "cell_type": "code",
   "execution_count": null,
   "metadata": {},
   "outputs": [],
   "source": [
    "af1 = extract_array('array_feature_1', 'key', 'value')\n",
    "af2 = extract_array('array_feature_2', 'key', 'value')"
   ]
  },
  {
   "cell_type": "markdown",
   "metadata": {},
   "source": [
    "#### Key-multivalue feature extraction"
   ]
  },
  {
   "cell_type": "code",
   "execution_count": null,
   "metadata": {},
   "outputs": [],
   "source": [
    "af3 = pd.DataFrame(list(collection.aggregate([{\"$unwind\" : \"$array_feature_3\"}, \n",
    "                                        {\"$project\" : {'featurename_31':'$array_feature_3.featurename_31',\n",
    "                                                       'featurename_32':'$array_feature_3.featurename_32',\n",
    "                                                       'featurename_33':'$array_feature_3.featurename_33'\n",
    "                                                      }}])))\n",
    "af3 = collide_me(af3)"
   ]
  },
  {
   "cell_type": "markdown",
   "metadata": {},
   "source": [
    "#### Key-value multi-dimensional feature extraction"
   ]
  },
  {
   "cell_type": "code",
   "execution_count": null,
   "metadata": {},
   "outputs": [],
   "source": [
    "af4 = json_normalize(list(collection.aggregate([{\"$unwind\": '$array_feature_4'},\n",
    "                                        {\"$project\" : {'feature41':'$array_feature_4.feature41'}}\n",
    "                                        ,{\"$unwind\": '$responses'}\n",
    "                                        ,{\"$project\" : {'feature41_key':'$feature41.key',\n",
    "                                                        'feature41_value':'$feature41.value'}}\n",
    "                                       ])))\n",
    "\n",
    "af4 = extract_ndarray(af4, 'feature41_key', 'feature41_value')"
   ]
  },
  {
   "cell_type": "markdown",
   "metadata": {},
   "source": [
    "### Joining and exporting data"
   ]
  },
  {
   "cell_type": "code",
   "execution_count": null,
   "metadata": {},
   "outputs": [],
   "source": [
    "df = pd.merge(flat_df, af1, on='_id', how='outer')\n",
    "df = pd.merge(df, af2, on='_id', how='outer')\n",
    "df = pd.merge(df, af3, on='_id', how='outer')\n",
    "df = pd.merge(df, af4, on='_id', how='outer')"
   ]
  },
  {
   "cell_type": "code",
   "execution_count": null,
   "metadata": {},
   "outputs": [],
   "source": [
    "df.to_csv('mongoDB_to_CSV_converted.csv')"
   ]
  }
 ],
 "metadata": {
  "kernelspec": {
   "display_name": "Python 3",
   "language": "python",
   "name": "python3"
  },
  "language_info": {
   "codemirror_mode": {
    "name": "ipython",
    "version": 3
   },
   "file_extension": ".py",
   "mimetype": "text/x-python",
   "name": "python",
   "nbconvert_exporter": "python",
   "pygments_lexer": "ipython3",
   "version": "3.7.1"
  }
 },
 "nbformat": 4,
 "nbformat_minor": 2
}
